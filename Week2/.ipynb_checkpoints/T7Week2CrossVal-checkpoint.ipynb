{
 "cells": [
  {
   "cell_type": "markdown",
   "metadata": {},
   "source": [
    "# Week 2 Team 7"
   ]
  },
  {
   "cell_type": "code",
   "execution_count": 1,
   "metadata": {},
   "outputs": [],
   "source": [
    "import os\n",
    "import cv2\n",
    "import numpy as np\n",
    "from sklearn.decomposition import PCA\n",
    "from sklearn.cluster import MiniBatchKMeans\n",
    "from sklearn.neighbors import KNeighborsClassifier\n",
    "from sklearn.model_selection import StratifiedKFold\n",
    "from sklearn.metrics import precision_score, classification_report, confusion_matrix, recall_score\n",
    "from mpl_toolkits.mplot3d import Axes3D\n",
    "import matplotlib.pyplot as plt\n",
    "import random\n",
    "from itertools import islice\n",
    "from sklearn.preprocessing import StandardScaler\n",
    "from sklearn.svm import LinearSVC, SVC"
   ]
  },
  {
   "cell_type": "markdown",
   "metadata": {},
   "source": [
    "<h2>Read train and test files</h2>\n",
    "\n",
    "<h3>Functions:</h3>\n",
    "<ul>\n",
    "    <li><b>list_dir():</b> obtain the labels of the classes from the directory names.</li>\n",
    "    <li><b>get_label_path():</b> get paths of all the images of the dataset and their label.</li>\n",
    "</ul>\n",
    "\n",
    "\n",
    "<h3>Variables:</h3>\n",
    "    <ul>\n",
    "    <i>listImages:</i> dictionary with the path of the images as keys and the class label as value.\n",
    "    <ul>\n",
    "    <li><b>train:</b> dictionary of train subdivision.</li>\n",
    "    <li><b>test:</b> dictionary of test subdiviosn.</li>\n",
    "    </ul></ul>"
   ]
  },
  {
   "cell_type": "code",
   "execution_count": 2,
   "metadata": {},
   "outputs": [],
   "source": [
    "paths = {}\n",
    "\n",
    "paths['trainImages'] = \"./train/\"\n",
    "paths['testImages'] = \"./test/\"\n",
    "\n",
    "def list_dir(path_dir):\n",
    "    f = []\n",
    "    for (dirpath, dirnames, filenames) in os.walk(path_dir):\n",
    "        f.extend(dirnames)\n",
    "        break\n",
    "    return f\n",
    "\n",
    "def get_label_path(path_dir):\n",
    "    path_label = list_dir(path_dir)\n",
    "    listImages ={}\n",
    "     \n",
    "    for label in path_label:\n",
    "        \n",
    "        # Import Data from directories\n",
    "        for filename in os.listdir(path_dir + label):\n",
    "            if filename.endswith(\".jpg\"):\n",
    "                listImages[path_dir + label + '/'+ filename] = label\n",
    "    return listImages\n",
    "\n",
    "train = get_label_path(paths['trainImages'])\n",
    "test = get_label_path(paths['testImages'])\n"
   ]
  },
  {
   "cell_type": "markdown",
   "metadata": {},
   "source": [
    "<H3>Cross Validation Variant</H3>\n",
    "\n",
    "In order to avoid depending on a correct selection of the train and test data sets, we used cross validation technique.    \n"
   ]
  },
  {
   "cell_type": "code",
   "execution_count": 3,
   "metadata": {},
   "outputs": [],
   "source": [
    "#IN: Train samples, number of splits\n",
    "#OUT: Train and validation batches\n",
    "def crossValidation(train, splits=2):\n",
    "    X = np.array(list(train.keys()))\n",
    "    y = np.array(list(train.values()))\n",
    "    \n",
    "    X_train = []\n",
    "    X_validation = []\n",
    "    y_train = []\n",
    "    y_validation = []\n",
    "    \n",
    "    skf = StratifiedKFold(n_splits=splits)\n",
    "    for train_index, validation_index in skf.split(X, y):\n",
    "        X_train.append(X[train_index])\n",
    "        X_validation.append(X[validation_index])\n",
    "        y_train.append(y[train_index])\n",
    "        y_validation.append(y[validation_index])\n",
    "\n",
    "    return X_train, y_train, X_validation, y_validation"
   ]
  },
  {
   "cell_type": "markdown",
   "metadata": {},
   "source": [
    "<h2>Create SIFT object detector and descriptor</h2>\n",
    "We compute the SIFT descriptors for all the train images and subsequently build a numpy array with all the descriptors stacked together.\n",
    "\n",
    "<h3>Function:</h3>\n",
    "<ul>\n",
    "    <li><b>numFeaturesIteration():</b> reads the image, converting it to gray, and applies the SIFT detector to fins the descriptors of the image.</li>\n",
    "</ul>\n",
    "\n",
    "<h3>Variables:</h3>\n",
    "<ul>\n",
    "    <li><b>Train_descriptors:</b> list of all the descriptors of each image.</li>\n",
    "    <li><b>D:</b> stack of the descriptors of all the images.</li>\n",
    "    <li><b>SIFTdescriptor:</b> class for extracting keypoints and computing descriptors using SIFT.</li>\n",
    "</ul>"
   ]
  },
  {
   "cell_type": "code",
   "execution_count": 4,
   "metadata": {},
   "outputs": [],
   "source": [
    "#IN: Number of features\n",
    "#OUT: Sift Object\n",
    "def createSift(numFeatures = 0):\n",
    "    sift = cv2.xfeatures2d.SIFT_create(nfeatures=numFeatures)\n",
    "    return sift\n",
    "\n",
    "#IN: Image, SIFT\n",
    "#OUT: Descriptor of Image\n",
    "def siftDescriptors(image, sift):\n",
    "    _,des=sift.detectAndCompute(image,None)\n",
    "    return des\n",
    "\n",
    "#IN: Image, SIFT, Sclae, Step\n",
    "#OUT: Descriptor of Image\n",
    "def denseSiftDescriptors(image, sift, scale, step):\n",
    "    kps = []\n",
    "    for x in range(0, image.shape[1], step):\n",
    "        for y in range(0, image.shape[0], step):\n",
    "            if (scale == 0):\n",
    "                scale = step * random.uniform(1, 3)\n",
    "            kp = cv2.KeyPoint(x, y, scale)\n",
    "            kps.append(kp)\n",
    "    _,des=sift.compute(image,kps)\n",
    "    return des\n",
    "\n",
    "#IN: Descriptor numpy array \n",
    "#OUT: Descriptor Stacked list\n",
    "def stackDescriptors(descriptorsList):\n",
    "    stackedDescriptors = np.vstack(descriptorsList)\n",
    "    return stackedDescriptors\n",
    "\n",
    "#IN: Dictionary of Images and Labels\n",
    "#OUT: Descriptor Stacked List\n",
    "def getDescriptors(imagesDict, sift, isPca = False, isDense = False, scale = 0, step = 0):\n",
    "    descriptors = []\n",
    "    for filename, labels in zip(imagesDict.keys(), imagesDict.values()):\n",
    "        ima=cv2.imread(filename)\n",
    "        gray=cv2.cvtColor(ima,cv2.COLOR_BGR2GRAY)\n",
    "        if(isDense):\n",
    "            des = denseSiftDescriptors(gray, sift, scale, step)\n",
    "        else:\n",
    "            des = siftDescriptors(gray, sift)\n",
    "        \n",
    "        if (isPca):\n",
    "            descriptors.append(dimensionalityReduction(des,2))\n",
    "        else:\n",
    "            descriptors.append(des)\n",
    "    D = stackDescriptors(descriptors)\n",
    "    return D, descriptors"
   ]
  },
  {
   "cell_type": "markdown",
   "metadata": {},
   "source": [
    "<H3> Declare Representation Spaces</H3>"
   ]
  },
  {
   "cell_type": "code",
   "execution_count": 5,
   "metadata": {},
   "outputs": [],
   "source": [
    "def dimensionalityReduction(parsedDescriptors, numComponents=2):\n",
    "    parsedDescriptors = np.transpose(parsedDescriptors)\n",
    "    pca = PCA(n_components=numComponents)\n",
    "    pca.fit(parsedDescriptors)\n",
    "    reducedParsedDescriptors = pca.components_\n",
    "    reducedParsedDescriptors = np.transpose(reducedParsedDescriptors)\n",
    "    return reducedParsedDescriptors\n",
    "\n",
    "def setRepresentationSpaceCentroids(parsedDescriptors, numClusters = 128):\n",
    "    codebook = MiniBatchKMeans(n_clusters=numClusters, verbose=False, batch_size=numClusters * 20,compute_labels=False,reassignment_ratio=10**-4,random_state=42)\n",
    "    codebook.fit(parsedDescriptors)\n",
    "    return codebook\n",
    "    \n",
    "def predictDescriptorsClusters(descriptorsList, codebook, numClusters = 128):\n",
    "    visual_words = np.zeros((len(descriptorsList),numClusters),dtype=np.float32)\n",
    "    for i in range(len(descriptorsList)):\n",
    "        words = codebook.predict(descriptorsList[i])\n",
    "        visual_words[i,:] = np.bincount(words, minlength=numClusters)\n",
    "    return visual_words"
   ]
  },
  {
   "cell_type": "markdown",
   "metadata": {},
   "source": [
    "<H3>Predict Data</H3>"
   ]
  },
  {
   "cell_type": "code",
   "execution_count": 6,
   "metadata": {},
   "outputs": [],
   "source": [
    "def scaleData(data):\n",
    "    scaler = StandardScaler()\n",
    "    scaled_data = scaler.fit_transform(data)\n",
    "    return scaled_data\n",
    "\n",
    "def LinearSVM(visual_words):\n",
    "    scaled_visual_words = scaleData(visual_words)\n",
    "    lsvm = LinearSVC()\n",
    "    lsvm.fit(visual_words, list(train.values()))\n",
    "    return lsvm\n",
    "\n",
    "def rbfSVM(visual_words):\n",
    "    scaled_visual_words = scaleData(visual_words)\n",
    "    rbf_svm = SVC(kernel='rbf')\n",
    "    rbf_svm.fit(visual_words, list(train.values()))\n",
    "    return rbf_svm\n",
    "\n",
    "def fitNearestNeighbours(numNeighbours, visual_words, metric):\n",
    "    knn = KNeighborsClassifier(n_neighbors=numNeighbours,n_jobs=-1,metric=metric)\n",
    "    knn.fit(visual_words, list(train.values())) \n",
    "    return knn"
   ]
  },
  {
   "cell_type": "markdown",
   "metadata": {},
   "source": [
    "<H3>Metrics Of Evaluations</H3>"
   ]
  },
  {
   "cell_type": "code",
   "execution_count": 7,
   "metadata": {},
   "outputs": [],
   "source": [
    "def getAccuracy(classifier, visual_words):\n",
    "    accuracy = 100*classifier.score(visual_words, list(test.values()))\n",
    "    return accuracy\n",
    "    \n",
    "def getPrecision(visual_words):\n",
    "    precision = precision_score(list(test.values()), visual_words)\n",
    "    return precision\n",
    "    \n",
    "def getRecall(visual_words):\n",
    "    recall = recall_score(list(test.values()), visual_words)\n",
    "    return recall\n",
    "    \n",
    "def getF1Score(visual_words):\n",
    "    precision = getPrecision(visual_words)\n",
    "    recall = getRecall(visual_words)\n",
    "    F1 = 2*(precision*recall)/(precision + recall)\n",
    "    return F1"
   ]
  },
  {
   "cell_type": "markdown",
   "metadata": {},
   "source": [
    "<H3>Obtain Descriptors</H3>"
   ]
  },
  {
   "cell_type": "code",
   "execution_count": 8,
   "metadata": {},
   "outputs": [],
   "source": [
    "def getAllDescriptors(isPca, isDense, numFeatures, scale, step):\n",
    "    if (isDense):\n",
    "        numFeatures = 0\n",
    "    sift = createSift(numFeatures)\n",
    "    D, descriptors = getDescriptors(train, sift, isPca, isDense, scale, step)\n",
    "    _, descriptorsTest = getDescriptors(test, sift, isPca, isDense, scale, step)\n",
    "    return D, descriptors, descriptorsTest"
   ]
  },
  {
   "cell_type": "markdown",
   "metadata": {},
   "source": [
    "<H3>Train Cluster</H3>"
   ]
  },
  {
   "cell_type": "code",
   "execution_count": 9,
   "metadata": {},
   "outputs": [],
   "source": [
    "def getTrainedCluster(D, numClusters, descriptors, numNeighbours, distanceMetric, classifier):\n",
    "    codebook = setRepresentationSpaceCentroids(D, numClusters)\n",
    "    visual_words = predictDescriptorsClusters(descriptors, codebook, numClusters)\n",
    "    if (classifier == \"KNN\"):\n",
    "        knn = fitNearestNeighbours(numNeighbours, visual_words, distanceMetric)\n",
    "    elif (classifier == \"LinearSVM\"):\n",
    "        knn = LinearSVM(visual_words)\n",
    "    elif (classifier == \"RBFSVM\"):\n",
    "        knn = rbfSVM(visual_words)\n",
    "    else:\n",
    "        print(classifier, \" Is undefinied.\")\n",
    "    return codebook, knn"
   ]
  },
  {
   "cell_type": "markdown",
   "metadata": {},
   "source": [
    "<H3>Predict With Test</H3>"
   ]
  },
  {
   "cell_type": "code",
   "execution_count": 10,
   "metadata": {},
   "outputs": [],
   "source": [
    "def getResults(knn, descriptorsTest, codebook, numClusters):\n",
    "    visual_words_test = predictDescriptorsClusters(descriptorsTest, codebook, numClusters)\n",
    "    print(getAccuracy(knn, visual_words_test))\n"
   ]
  },
  {
   "cell_type": "code",
   "execution_count": null,
   "metadata": {},
   "outputs": [],
   "source": [
    "def main(classifier, isDense, isPca, numClusters, numNeighbours, scale, step, distanceMetric = \"euclidean\", numFeatures = 0,   )\n",
    "    D, descriptors, descriptorsTest = getAllDescriptors(isPca, isDense, numFeatures, scale, step)\n",
    "    codebook, knn = getTrainedCluster(D, numClusters, descriptors, numNeighbours, distanceMetric, classifier)\n",
    "    getResults(knn, descriptorsTest, codebook, numClusters)"
   ]
  },
  {
   "cell_type": "code",
   "execution_count": 17,
   "metadata": {},
   "outputs": [],
   "source": [
    "splits = 2\n",
    "X_train, y_train, X_validation, y_validation = crossValidation(train, splits)\n",
    "\n"
   ]
  },
  {
   "cell_type": "code",
   "execution_count": 48,
   "metadata": {},
   "outputs": [
    {
     "name": "stdout",
     "output_type": "stream",
     "text": [
      "61.957868649318456\n"
     ]
    },
    {
     "ename": "ValueError",
     "evalue": "Classification metrics can't handle a mix of multiclass and multiclass-multioutput targets",
     "output_type": "error",
     "traceback": [
      "\u001b[1;31m---------------------------------------------------------------------------\u001b[0m",
      "\u001b[1;31mValueError\u001b[0m                                Traceback (most recent call last)",
      "\u001b[1;32m<ipython-input-48-54b924650596>\u001b[0m in \u001b[0;36m<module>\u001b[1;34m()\u001b[0m\n\u001b[0;32m      2\u001b[0m \u001b[1;33m\u001b[0m\u001b[0m\n\u001b[0;32m      3\u001b[0m \u001b[0mcodebook\u001b[0m\u001b[1;33m,\u001b[0m \u001b[0mknn\u001b[0m \u001b[1;33m=\u001b[0m \u001b[0mgetTrainedCluster\u001b[0m\u001b[1;33m(\u001b[0m\u001b[0mD\u001b[0m\u001b[1;33m,\u001b[0m \u001b[0mnumClusters\u001b[0m\u001b[1;33m,\u001b[0m \u001b[0mdescriptors\u001b[0m\u001b[1;33m,\u001b[0m \u001b[0mnumNeighbours\u001b[0m\u001b[1;33m,\u001b[0m \u001b[0mdistanceMetric\u001b[0m\u001b[1;33m,\u001b[0m \u001b[0mclassifier\u001b[0m\u001b[1;33m)\u001b[0m\u001b[1;33m\u001b[0m\u001b[0m\n\u001b[1;32m----> 4\u001b[1;33m \u001b[0mgetResults\u001b[0m\u001b[1;33m(\u001b[0m\u001b[0mknn\u001b[0m\u001b[1;33m,\u001b[0m \u001b[0mdescriptorsTest\u001b[0m\u001b[1;33m,\u001b[0m \u001b[0mcodebook\u001b[0m\u001b[1;33m,\u001b[0m \u001b[0mnumClusters\u001b[0m\u001b[1;33m)\u001b[0m\u001b[1;33m\u001b[0m\u001b[0m\n\u001b[0m",
      "\u001b[1;32m<ipython-input-47-82a758195bee>\u001b[0m in \u001b[0;36mgetResults\u001b[1;34m(knn, descriptorsTest, codebook, numClusters)\u001b[0m\n\u001b[0;32m      2\u001b[0m     \u001b[0mvisual_words_test\u001b[0m \u001b[1;33m=\u001b[0m \u001b[0mpredictDescriptorsClusters\u001b[0m\u001b[1;33m(\u001b[0m\u001b[0mdescriptorsTest\u001b[0m\u001b[1;33m,\u001b[0m \u001b[0mcodebook\u001b[0m\u001b[1;33m,\u001b[0m \u001b[0mnumClusters\u001b[0m\u001b[1;33m)\u001b[0m\u001b[1;33m\u001b[0m\u001b[0m\n\u001b[0;32m      3\u001b[0m     \u001b[0mprint\u001b[0m\u001b[1;33m(\u001b[0m\u001b[0mgetAccuracy\u001b[0m\u001b[1;33m(\u001b[0m\u001b[0mknn\u001b[0m\u001b[1;33m,\u001b[0m \u001b[0mvisual_words_test\u001b[0m\u001b[1;33m)\u001b[0m\u001b[1;33m)\u001b[0m\u001b[1;33m\u001b[0m\u001b[0m\n\u001b[1;32m----> 4\u001b[1;33m     \u001b[0mprint\u001b[0m\u001b[1;33m(\u001b[0m\u001b[0mgetRecall\u001b[0m\u001b[1;33m(\u001b[0m \u001b[0mvisual_words_test\u001b[0m\u001b[1;33m)\u001b[0m\u001b[1;33m)\u001b[0m\u001b[1;33m\u001b[0m\u001b[0m\n\u001b[0m",
      "\u001b[1;32m<ipython-input-43-2e769d1e1801>\u001b[0m in \u001b[0;36mgetRecall\u001b[1;34m(visual_words)\u001b[0m\n\u001b[0;32m      8\u001b[0m \u001b[1;33m\u001b[0m\u001b[0m\n\u001b[0;32m      9\u001b[0m \u001b[1;32mdef\u001b[0m \u001b[0mgetRecall\u001b[0m\u001b[1;33m(\u001b[0m\u001b[0mvisual_words\u001b[0m\u001b[1;33m)\u001b[0m\u001b[1;33m:\u001b[0m\u001b[1;33m\u001b[0m\u001b[0m\n\u001b[1;32m---> 10\u001b[1;33m     \u001b[0mrecall\u001b[0m \u001b[1;33m=\u001b[0m \u001b[0mrecall_score\u001b[0m\u001b[1;33m(\u001b[0m\u001b[0mlist\u001b[0m\u001b[1;33m(\u001b[0m\u001b[0mtest\u001b[0m\u001b[1;33m.\u001b[0m\u001b[0mvalues\u001b[0m\u001b[1;33m(\u001b[0m\u001b[1;33m)\u001b[0m\u001b[1;33m)\u001b[0m\u001b[1;33m,\u001b[0m \u001b[0mvisual_words\u001b[0m\u001b[1;33m)\u001b[0m\u001b[1;33m\u001b[0m\u001b[0m\n\u001b[0m\u001b[0;32m     11\u001b[0m     \u001b[1;32mreturn\u001b[0m \u001b[0mrecall\u001b[0m\u001b[1;33m\u001b[0m\u001b[0m\n\u001b[0;32m     12\u001b[0m \u001b[1;33m\u001b[0m\u001b[0m\n",
      "\u001b[1;32m~\\Anaconda3\\lib\\site-packages\\sklearn\\metrics\\classification.py\u001b[0m in \u001b[0;36mrecall_score\u001b[1;34m(y_true, y_pred, labels, pos_label, average, sample_weight)\u001b[0m\n\u001b[0;32m   1357\u001b[0m                                                  \u001b[0maverage\u001b[0m\u001b[1;33m=\u001b[0m\u001b[0maverage\u001b[0m\u001b[1;33m,\u001b[0m\u001b[1;33m\u001b[0m\u001b[0m\n\u001b[0;32m   1358\u001b[0m                                                  \u001b[0mwarn_for\u001b[0m\u001b[1;33m=\u001b[0m\u001b[1;33m(\u001b[0m\u001b[1;34m'recall'\u001b[0m\u001b[1;33m,\u001b[0m\u001b[1;33m)\u001b[0m\u001b[1;33m,\u001b[0m\u001b[1;33m\u001b[0m\u001b[0m\n\u001b[1;32m-> 1359\u001b[1;33m                                                  sample_weight=sample_weight)\n\u001b[0m\u001b[0;32m   1360\u001b[0m     \u001b[1;32mreturn\u001b[0m \u001b[0mr\u001b[0m\u001b[1;33m\u001b[0m\u001b[0m\n\u001b[0;32m   1361\u001b[0m \u001b[1;33m\u001b[0m\u001b[0m\n",
      "\u001b[1;32m~\\Anaconda3\\lib\\site-packages\\sklearn\\metrics\\classification.py\u001b[0m in \u001b[0;36mprecision_recall_fscore_support\u001b[1;34m(y_true, y_pred, beta, labels, pos_label, average, warn_for, sample_weight)\u001b[0m\n\u001b[0;32m   1023\u001b[0m         \u001b[1;32mraise\u001b[0m \u001b[0mValueError\u001b[0m\u001b[1;33m(\u001b[0m\u001b[1;34m\"beta should be >0 in the F-beta score\"\u001b[0m\u001b[1;33m)\u001b[0m\u001b[1;33m\u001b[0m\u001b[0m\n\u001b[0;32m   1024\u001b[0m \u001b[1;33m\u001b[0m\u001b[0m\n\u001b[1;32m-> 1025\u001b[1;33m     \u001b[0my_type\u001b[0m\u001b[1;33m,\u001b[0m \u001b[0my_true\u001b[0m\u001b[1;33m,\u001b[0m \u001b[0my_pred\u001b[0m \u001b[1;33m=\u001b[0m \u001b[0m_check_targets\u001b[0m\u001b[1;33m(\u001b[0m\u001b[0my_true\u001b[0m\u001b[1;33m,\u001b[0m \u001b[0my_pred\u001b[0m\u001b[1;33m)\u001b[0m\u001b[1;33m\u001b[0m\u001b[0m\n\u001b[0m\u001b[0;32m   1026\u001b[0m     \u001b[0mpresent_labels\u001b[0m \u001b[1;33m=\u001b[0m \u001b[0munique_labels\u001b[0m\u001b[1;33m(\u001b[0m\u001b[0my_true\u001b[0m\u001b[1;33m,\u001b[0m \u001b[0my_pred\u001b[0m\u001b[1;33m)\u001b[0m\u001b[1;33m\u001b[0m\u001b[0m\n\u001b[0;32m   1027\u001b[0m \u001b[1;33m\u001b[0m\u001b[0m\n",
      "\u001b[1;32m~\\Anaconda3\\lib\\site-packages\\sklearn\\metrics\\classification.py\u001b[0m in \u001b[0;36m_check_targets\u001b[1;34m(y_true, y_pred)\u001b[0m\n\u001b[0;32m     79\u001b[0m     \u001b[1;32mif\u001b[0m \u001b[0mlen\u001b[0m\u001b[1;33m(\u001b[0m\u001b[0my_type\u001b[0m\u001b[1;33m)\u001b[0m \u001b[1;33m>\u001b[0m \u001b[1;36m1\u001b[0m\u001b[1;33m:\u001b[0m\u001b[1;33m\u001b[0m\u001b[0m\n\u001b[0;32m     80\u001b[0m         raise ValueError(\"Classification metrics can't handle a mix of {0} \"\n\u001b[1;32m---> 81\u001b[1;33m                          \"and {1} targets\".format(type_true, type_pred))\n\u001b[0m\u001b[0;32m     82\u001b[0m \u001b[1;33m\u001b[0m\u001b[0m\n\u001b[0;32m     83\u001b[0m     \u001b[1;31m# We can't have more than one value on y_type => The set is no more needed\u001b[0m\u001b[1;33m\u001b[0m\u001b[1;33m\u001b[0m\u001b[0m\n",
      "\u001b[1;31mValueError\u001b[0m: Classification metrics can't handle a mix of multiclass and multiclass-multioutput targets"
     ]
    }
   ],
   "source": [
    "classifier = \"LinearSVM\"\n",
    "numFeatures = 0\n",
    "scale = 2\n",
    "step = 16\n",
    "isPca = False\n",
    "isDense = True\n",
    "numClusters = 96\n",
    "distanceMetric = \"euclidean\"\n",
    "numNeighbours = 27\n",
    "\n",
    "D, descriptors, descriptorsTest = getAllDescriptors(isPca, isDense, numFeatures, scale, step)\n",
    "codebook, knn = getTrainedCluster(D, numClusters, descriptors, numNeighbours, distanceMetric, classifier)\n",
    "getResults(knn, descriptorsTest, codebook, numClusters)"
   ]
  },
  {
   "cell_type": "markdown",
   "metadata": {},
   "source": [
    "<h2>Compute a k-means clustering on the descriptor space</h2>\n",
    "\n",
    "<h3>Function:</h3>\n",
    "<ul>\n",
    "    <li><b>numClustersIteration():</b> for each train image, projects each keypoint descriptor to its closest visual word.\n",
    "    Each of the images is represented with the frequency of each visual word.</li>\n",
    "</ul>\n",
    "\n",
    "<h3>Variables:</h3>\n",
    "<ul>\n",
    "    <li><b>visual_words:</b> frequency list of all the visual words of the images.</li>\n",
    "    <li><b>codebook:</b> K-means algorithm implementation with a restricted batch size.</li>"
   ]
  },
  {
   "cell_type": "markdown",
   "metadata": {},
   "source": [
    "<h2>Build and train a k-nn classifier</h2>\n",
    "\n",
    "<h3>Function:</h3>\n",
    "<ul>\n",
    "    <li><b>numNeighIteration():</b> creates a k-nn classifier and trains it with the train descriptors. Then computes the test descriptors and the accuracy of the model.</li>\n",
    "</ul>\n",
    "\n",
    "<h3>Variables:</h3>\n",
    "<ul>\n",
    "    <li><b>knn:</b> K Nearest Neighbors classifier with the neighbors and metric specified.</li>\n",
    "    <li><b>visual_words_test:</b> resulting classification of the algorithm for all the images.</li>\n",
    "    <li><b>mat_accuracy:</b> accuracy for the different combinations of metrics(k-nn), number of neighbors(k-nn), number of features(SIFT) and number of clusters(k-means).\n",
    "</ul>"
   ]
  },
  {
   "cell_type": "markdown",
   "metadata": {},
   "source": [
    "<h2>3D Results</h2>\n",
    "We have executed the code changing the values of the following variables:\n",
    "<ul>\n",
    "    <li><b>k:</b> number of clusters of the k-means algorithm. [2<sup>4</sup>, 2<sup>5</sup>, 2<sup>6</sup>, 2<sup>7</sup>]</li>\n",
    "    <li><b>neigh:</b> number of neighbours to compare to in the k-nn algorithm. [24, 27, 30, 33]</li>\n",
    "    <li><b>numFeatures:</b> number of features to take from the SIFT detector. [60, 120, 180, 240]</li>\n",
    "    <li><b>metric:</b> distance metric to calculate distances from classes on the k-nn algorithm. [euclidean, manhattan, chebyshev, minkowski]</li>\n",
    "</ul>\n",
    "\n",
    "The results are ploted as 3D accuracy plots for each number of clusters and features independently with a set of neighbour quantities (X axis) and distance metrics (Y axis).\n"
   ]
  },
  {
   "cell_type": "markdown",
   "metadata": {},
   "source": [
    "The best results for number of <i>neighbours</i> was found at <b>30</b>, the ideal number of <i>clusters</i> was arround <b>96</b> with the <b>euclidean</b> <i>metric</i> and the number of <i>features</i> arround <b>300</b>.\n",
    "<br>\n",
    "It has to be taken into account that not all possible values of those variables were tried though a better result might exist within the non-tested combination."
   ]
  },
  {
   "cell_type": "markdown",
   "metadata": {},
   "source": [
    "<h2>2D results</h2>\n",
    "To find a most accurate parameters solution we execute the algorithm fixing 3 of the 4 parameters and iterating for a set of values of the other variable."
   ]
  },
  {
   "cell_type": "markdown",
   "metadata": {},
   "source": [
    "<h3>Unary Parameter Dependent</h3>\n",
    "\n",
    "In order to compute the high time complexity emprovements, we implemented a method that only expect to return a unical result given the best combination of parameters, that will help us to manage the results of the Dense SIFT."
   ]
  },
  {
   "cell_type": "markdown",
   "metadata": {},
   "source": [
    "<H1> Dense Sift Emprovement</H1>\n",
    "The difference between SIFT and Dense SIFT is that with dense SIFT you get a  descriptor at every location, while with normal SIFT you get a descriptions at the locations determined by Lowe's algorithm.\n"
   ]
  },
  {
   "cell_type": "markdown",
   "metadata": {},
   "source": [
    "<H3>Dense Sift Findings</H3>\n",
    "\n",
    "As we can see given the best combination of the obtained parameters of the SIFT descriptor already tested, Dense Sift descriptors performs way better, since in SIFT descriptors, the focus is to find the more representative points of the image regardless that most of them are close to each other. So in Dense SIFT descriptors as all the points are sequentially spotted, the information of the less relevant areas of the landscapes are not lost, and you can match easily those landscapes that have low energy frequencies in most of the image but from one small area with others of the same type."
   ]
  },
  {
   "cell_type": "markdown",
   "metadata": {},
   "source": []
  }
 ],
 "metadata": {
  "kernelspec": {
   "display_name": "Python 3",
   "language": "python",
   "name": "python3"
  },
  "language_info": {
   "codemirror_mode": {
    "name": "ipython",
    "version": 3
   },
   "file_extension": ".py",
   "mimetype": "text/x-python",
   "name": "python",
   "nbconvert_exporter": "python",
   "pygments_lexer": "ipython3",
   "version": "3.5.6"
  }
 },
 "nbformat": 4,
 "nbformat_minor": 2
}
